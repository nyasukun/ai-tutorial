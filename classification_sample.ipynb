{
  "nbformat": 4,
  "nbformat_minor": 0,
  "metadata": {
    "colab": {
      "provenance": [],
      "authorship_tag": "ABX9TyPOZCBQopUIMHokeELUdGf4"
    },
    "kernelspec": {
      "name": "python3",
      "display_name": "Python 3"
    },
    "language_info": {
      "name": "python"
    }
  },
  "cells": [
    {
      "cell_type": "code",
      "execution_count": 1,
      "metadata": {
        "colab": {
          "base_uri": "https://localhost:8080/"
        },
        "id": "_faIJu-hCCmU",
        "outputId": "2204f192-2763-4509-f69d-3b32d200bc7f"
      },
      "outputs": [
        {
          "output_type": "stream",
          "name": "stdout",
          "text": [
            "Requirement already satisfied: langchain in /usr/local/lib/python3.12/dist-packages (0.3.27)\n",
            "Collecting langchain-openai\n",
            "  Downloading langchain_openai-0.3.34-py3-none-any.whl.metadata (2.4 kB)\n",
            "Requirement already satisfied: langchain-core<1.0.0,>=0.3.72 in /usr/local/lib/python3.12/dist-packages (from langchain) (0.3.77)\n",
            "Requirement already satisfied: langchain-text-splitters<1.0.0,>=0.3.9 in /usr/local/lib/python3.12/dist-packages (from langchain) (0.3.11)\n",
            "Requirement already satisfied: langsmith>=0.1.17 in /usr/local/lib/python3.12/dist-packages (from langchain) (0.4.31)\n",
            "Requirement already satisfied: pydantic<3.0.0,>=2.7.4 in /usr/local/lib/python3.12/dist-packages (from langchain) (2.11.9)\n",
            "Requirement already satisfied: SQLAlchemy<3,>=1.4 in /usr/local/lib/python3.12/dist-packages (from langchain) (2.0.43)\n",
            "Requirement already satisfied: requests<3,>=2 in /usr/local/lib/python3.12/dist-packages (from langchain) (2.32.4)\n",
            "Requirement already satisfied: PyYAML>=5.3 in /usr/local/lib/python3.12/dist-packages (from langchain) (6.0.3)\n",
            "Requirement already satisfied: openai<3.0.0,>=1.104.2 in /usr/local/lib/python3.12/dist-packages (from langchain-openai) (1.109.1)\n",
            "Requirement already satisfied: tiktoken<1.0.0,>=0.7.0 in /usr/local/lib/python3.12/dist-packages (from langchain-openai) (0.11.0)\n",
            "Requirement already satisfied: tenacity!=8.4.0,<10.0.0,>=8.1.0 in /usr/local/lib/python3.12/dist-packages (from langchain-core<1.0.0,>=0.3.72->langchain) (8.5.0)\n",
            "Requirement already satisfied: jsonpatch<2.0.0,>=1.33.0 in /usr/local/lib/python3.12/dist-packages (from langchain-core<1.0.0,>=0.3.72->langchain) (1.33)\n",
            "Requirement already satisfied: typing-extensions<5.0.0,>=4.7.0 in /usr/local/lib/python3.12/dist-packages (from langchain-core<1.0.0,>=0.3.72->langchain) (4.15.0)\n",
            "Requirement already satisfied: packaging<26.0.0,>=23.2.0 in /usr/local/lib/python3.12/dist-packages (from langchain-core<1.0.0,>=0.3.72->langchain) (25.0)\n",
            "Requirement already satisfied: httpx<1,>=0.23.0 in /usr/local/lib/python3.12/dist-packages (from langsmith>=0.1.17->langchain) (0.28.1)\n",
            "Requirement already satisfied: orjson>=3.9.14 in /usr/local/lib/python3.12/dist-packages (from langsmith>=0.1.17->langchain) (3.11.3)\n",
            "Requirement already satisfied: requests-toolbelt>=1.0.0 in /usr/local/lib/python3.12/dist-packages (from langsmith>=0.1.17->langchain) (1.0.0)\n",
            "Requirement already satisfied: zstandard>=0.23.0 in /usr/local/lib/python3.12/dist-packages (from langsmith>=0.1.17->langchain) (0.25.0)\n",
            "Requirement already satisfied: anyio<5,>=3.5.0 in /usr/local/lib/python3.12/dist-packages (from openai<3.0.0,>=1.104.2->langchain-openai) (4.11.0)\n",
            "Requirement already satisfied: distro<2,>=1.7.0 in /usr/local/lib/python3.12/dist-packages (from openai<3.0.0,>=1.104.2->langchain-openai) (1.9.0)\n",
            "Requirement already satisfied: jiter<1,>=0.4.0 in /usr/local/lib/python3.12/dist-packages (from openai<3.0.0,>=1.104.2->langchain-openai) (0.11.0)\n",
            "Requirement already satisfied: sniffio in /usr/local/lib/python3.12/dist-packages (from openai<3.0.0,>=1.104.2->langchain-openai) (1.3.1)\n",
            "Requirement already satisfied: tqdm>4 in /usr/local/lib/python3.12/dist-packages (from openai<3.0.0,>=1.104.2->langchain-openai) (4.67.1)\n",
            "Requirement already satisfied: annotated-types>=0.6.0 in /usr/local/lib/python3.12/dist-packages (from pydantic<3.0.0,>=2.7.4->langchain) (0.7.0)\n",
            "Requirement already satisfied: pydantic-core==2.33.2 in /usr/local/lib/python3.12/dist-packages (from pydantic<3.0.0,>=2.7.4->langchain) (2.33.2)\n",
            "Requirement already satisfied: typing-inspection>=0.4.0 in /usr/local/lib/python3.12/dist-packages (from pydantic<3.0.0,>=2.7.4->langchain) (0.4.2)\n",
            "Requirement already satisfied: charset_normalizer<4,>=2 in /usr/local/lib/python3.12/dist-packages (from requests<3,>=2->langchain) (3.4.3)\n",
            "Requirement already satisfied: idna<4,>=2.5 in /usr/local/lib/python3.12/dist-packages (from requests<3,>=2->langchain) (3.10)\n",
            "Requirement already satisfied: urllib3<3,>=1.21.1 in /usr/local/lib/python3.12/dist-packages (from requests<3,>=2->langchain) (2.5.0)\n",
            "Requirement already satisfied: certifi>=2017.4.17 in /usr/local/lib/python3.12/dist-packages (from requests<3,>=2->langchain) (2025.8.3)\n",
            "Requirement already satisfied: greenlet>=1 in /usr/local/lib/python3.12/dist-packages (from SQLAlchemy<3,>=1.4->langchain) (3.2.4)\n",
            "Requirement already satisfied: regex>=2022.1.18 in /usr/local/lib/python3.12/dist-packages (from tiktoken<1.0.0,>=0.7.0->langchain-openai) (2024.11.6)\n",
            "Requirement already satisfied: httpcore==1.* in /usr/local/lib/python3.12/dist-packages (from httpx<1,>=0.23.0->langsmith>=0.1.17->langchain) (1.0.9)\n",
            "Requirement already satisfied: h11>=0.16 in /usr/local/lib/python3.12/dist-packages (from httpcore==1.*->httpx<1,>=0.23.0->langsmith>=0.1.17->langchain) (0.16.0)\n",
            "Requirement already satisfied: jsonpointer>=1.9 in /usr/local/lib/python3.12/dist-packages (from jsonpatch<2.0.0,>=1.33.0->langchain-core<1.0.0,>=0.3.72->langchain) (3.0.0)\n",
            "Downloading langchain_openai-0.3.34-py3-none-any.whl (75 kB)\n",
            "\u001b[2K   \u001b[90m━━━━━━━━━━━━━━━━━━━━━━━━━━━━━━━━━━━━━━━━\u001b[0m \u001b[32m75.6/75.6 kB\u001b[0m \u001b[31m2.2 MB/s\u001b[0m eta \u001b[36m0:00:00\u001b[0m\n",
            "\u001b[?25hInstalling collected packages: langchain-openai\n",
            "Successfully installed langchain-openai-0.3.34\n"
          ]
        }
      ],
      "source": [
        "!pip install langchain langchain-openai"
      ]
    },
    {
      "cell_type": "code",
      "execution_count": 4,
      "metadata": {
        "id": "HHzYNUFS_3Ev"
      },
      "outputs": [],
      "source": [
        "import os\n",
        "from langchain_openai import ChatOpenAI\n",
        "from langchain_core.prompts import ChatPromptTemplate\n",
        "\n",
        "from google.colab import userdata\n",
        "api_key = userdata.get('OPENAI_API_KEY')\n",
        "\n",
        "# --- 1) 分類したいラベルを定義（ここを差し替え） ---\n",
        "LABELS = [\"有害\", \"迷惑\", \"一般\"]\n",
        "\n",
        "# --- 2) JSON Schema（ラベルは enum で厳密指定）---\n",
        "schema = {\n",
        "    \"title\": \"Classification\",\n",
        "    \"type\": \"object\",\n",
        "    \"properties\": {\n",
        "        \"label\": {\n",
        "            \"type\": \"string\",\n",
        "            \"enum\": LABELS,\n",
        "            \"description\": \"必ず上記のいずれか1つを選ぶこと\"\n",
        "        },\n",
        "        \"confidence\": {\n",
        "            \"type\": \"number\",\n",
        "            \"minimum\": 0.0,\n",
        "            \"maximum\": 1.0,\n",
        "            \"description\": \"判断の確信度（0〜1）\"\n",
        "        },\n",
        "        \"reason\": {\n",
        "            \"type\": \"string\",\n",
        "            \"description\": \"そのラベルにした短い根拠\"\n",
        "        }\n",
        "    },\n",
        "    \"required\": [\"label\", \"confidence\", \"reason\"],\n",
        "    \"additionalProperties\": False\n",
        "}\n",
        "\n",
        "# --- 3) プロンプト（LCEL）---\n",
        "prompt = ChatPromptTemplate.from_messages([\n",
        "    (\"system\",\n",
        "     \"あなたは厳密なテキスト分類器です。次の候補から必ず1つだけ選んでください: {labels}\\n\"\n",
        "     \"出力はスキーマに厳密に従ってください。余計な説明は出力しないでください。\"),\n",
        "    (\"human\", \"テキスト:\\n{text}\")\n",
        "])\n",
        "\n",
        "# --- 4) モデル（OpenAI）。環境変数 OPENAI_API_KEY を利用 ---\n",
        "llm = ChatOpenAI(model=\"gpt-4o-mini\", temperature=0,\n",
        "                 api_key = api_key)\n",
        "\n",
        "# --- 5) チェーン構築（構造化出力）---\n",
        "chain = prompt | llm.with_structured_output(schema)\n",
        "\n"
      ]
    },
    {
      "cell_type": "code",
      "execution_count": 6,
      "metadata": {
        "colab": {
          "base_uri": "https://localhost:8080/"
        },
        "outputId": "24f0949e-16d1-43ee-eca4-81fbad1c71d5",
        "id": "5eZXhNJ2CMiu"
      },
      "outputs": [
        {
          "output_type": "stream",
          "name": "stdout",
          "text": [
            "{'label': '\\x00\\x00', 'confidence': 0.9, 'reason': '脅迫的な表現が含まれており、有害な内容と判断されるため。'}\n",
            "----\n",
            "TEXT: 今だけ無料のiPhoneを当選しました！こちらをクリック\n",
            "OUT : {'label': '\\x00\\x00', 'confidence': 0.9, 'reason': '無料のiPhoneを当選したという内容は、詐欺や迷惑な勧誘の可能性が高いと判断されるため。'}\n",
            "----\n",
            "TEXT: 今日の会議は15時からです。\n",
            "OUT : {'label': '\\x00\\x00', 'confidence': 0.9, 'reason': '一般的な情報提供であり、有害または迷惑ではないため。'}\n",
            "----\n",
            "TEXT: 住所やマイナンバーを送ってください。\n",
            "OUT : {'label': '\\x00\\x00', 'confidence': 0.9, 'reason': '個人情報の提供を求める内容であり、プライバシーに関わる有害なリクエストと判断されるため。'}\n"
          ]
        }
      ],
      "source": [
        "# --- 6) 単発実行の例 ---\n",
        "text = \"殺すぞ、と脅されました。\"\n",
        "result = chain.invoke({\"labels\": \", \".join(LABELS), \"text\": text})\n",
        "# result は dict: {\"label\": \"...\", \"confidence\": 0.x, \"reason\": \"...\"}\n",
        "print(result)\n",
        "\n",
        "# --- 7) バッチ分類の例 ---\n",
        "texts = [\n",
        "    \"今だけ無料のiPhoneを当選しました！こちらをクリック\",\n",
        "    \"今日の会議は15時からです。\",\n",
        "    \"住所やマイナンバーを送ってください。\"\n",
        "]\n",
        "batched_inputs = [{\"labels\": \", \".join(LABELS), \"text\": t} for t in texts]\n",
        "results = chain.batch(batched_inputs, config={\"max_concurrency\": 4})\n",
        "for t, r in zip(texts, results):\n",
        "    print(\"----\")\n",
        "    print(\"TEXT:\", t)\n",
        "    print(\"OUT :\", r)"
      ]
    },
    {
      "cell_type": "code",
      "source": [],
      "metadata": {
        "id": "DE1R05spDRmx"
      },
      "execution_count": null,
      "outputs": []
    }
  ]
}